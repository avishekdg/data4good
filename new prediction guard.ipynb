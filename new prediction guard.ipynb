{
 "cells": [
  {
   "cell_type": "code",
   "execution_count": 11,
   "id": "b87892dc",
   "metadata": {
    "scrolled": true
   },
   "outputs": [
    {
     "name": "stdout",
     "output_type": "stream",
     "text": [
      "Requirement already satisfied: predictionguard in c:\\users\\avish\\anaconda3\\lib\\site-packages (1.5.2)\n",
      "Requirement already satisfied: tabulate>=0.8.10 in c:\\users\\avish\\anaconda3\\lib\\site-packages (from predictionguard) (0.8.10)\n",
      "Requirement already satisfied: requests>=2.27.1 in c:\\users\\avish\\anaconda3\\lib\\site-packages (from predictionguard) (2.31.0)\n",
      "Requirement already satisfied: charset-normalizer<4,>=2 in c:\\users\\avish\\anaconda3\\lib\\site-packages (from requests>=2.27.1->predictionguard) (2.0.4)\n",
      "Requirement already satisfied: idna<4,>=2.5 in c:\\users\\avish\\anaconda3\\lib\\site-packages (from requests>=2.27.1->predictionguard) (3.4)\n",
      "Requirement already satisfied: urllib3<3,>=1.21.1 in c:\\users\\avish\\anaconda3\\lib\\site-packages (from requests>=2.27.1->predictionguard) (1.26.16)\n",
      "Requirement already satisfied: certifi>=2017.4.17 in c:\\users\\avish\\anaconda3\\lib\\site-packages (from requests>=2.27.1->predictionguard) (2023.7.22)\n",
      "Enter your Prediction Guard access token: ········\n"
     ]
    },
    {
     "ename": "TypeError",
     "evalue": "Client.__init__() got an unexpected keyword argument 'model'",
     "output_type": "error",
     "traceback": [
      "\u001b[1;31m---------------------------------------------------------------------------\u001b[0m",
      "\u001b[1;31mTypeError\u001b[0m                                 Traceback (most recent call last)",
      "Cell \u001b[1;32mIn[11], line 26\u001b[0m\n\u001b[0;32m     23\u001b[0m \u001b[38;5;28;01mimport\u001b[39;00m \u001b[38;5;21;01mpredictionguard\u001b[39;00m \u001b[38;5;28;01mas\u001b[39;00m \u001b[38;5;21;01mpg\u001b[39;00m\n\u001b[0;32m     25\u001b[0m \u001b[38;5;66;03m# Create a Prediction Guard client object\u001b[39;00m\n\u001b[1;32m---> 26\u001b[0m pg \u001b[38;5;241m=\u001b[39m pg\u001b[38;5;241m.\u001b[39mClient(\n\u001b[0;32m     27\u001b[0m     model\u001b[38;5;241m=\u001b[39m\u001b[38;5;124m\"\u001b[39m\u001b[38;5;124mNous-Hermes-Llama2-13B\u001b[39m\u001b[38;5;124m\"\u001b[39m,\n\u001b[0;32m     28\u001b[0m     output_type\u001b[38;5;241m=\u001b[39m\u001b[38;5;124m\"\u001b[39m\u001b[38;5;124mjson\u001b[39m\u001b[38;5;124m\"\u001b[39m,\n\u001b[0;32m     29\u001b[0m     output_structure\u001b[38;5;241m=\u001b[39m{\n\u001b[0;32m     30\u001b[0m         \u001b[38;5;124m\"\u001b[39m\u001b[38;5;124manswer\u001b[39m\u001b[38;5;124m\"\u001b[39m: \u001b[38;5;124m\"\u001b[39m\u001b[38;5;124mstring\u001b[39m\u001b[38;5;124m\"\u001b[39m,\n\u001b[0;32m     31\u001b[0m         \u001b[38;5;124m\"\u001b[39m\u001b[38;5;124mquestion_id\u001b[39m\u001b[38;5;124m\"\u001b[39m: \u001b[38;5;124m\"\u001b[39m\u001b[38;5;124mstring\u001b[39m\u001b[38;5;124m\"\u001b[39m\n\u001b[0;32m     32\u001b[0m     }\n\u001b[0;32m     33\u001b[0m )\n\u001b[0;32m     35\u001b[0m \u001b[38;5;66;03m# Initialize an empty list to store the answers\u001b[39;00m\n\u001b[0;32m     36\u001b[0m answers \u001b[38;5;241m=\u001b[39m []\n",
      "\u001b[1;31mTypeError\u001b[0m: Client.__init__() got an unexpected keyword argument 'model'"
     ]
    }
   ],
   "source": [
    "# Install the Prediction Guard client\n",
    "! pip install -U predictionguard\n",
    "\n",
    "# Python Imports\n",
    "import os\n",
    "import json\n",
    "\n",
    "import pandas as pd\n",
    "from getpass import getpass\n",
    "\n",
    "# Load the transcripts from the csv file named \"cleaned_output_file\"\n",
    "transcripts = pd.read_csv('cleaned_output_file.csv')\n",
    "\n",
    "# Convert the transcripts dataframe to a dictionary with id as the key and text as the value\n",
    "transcripts = transcripts.set_index('id')['text'].to_dict()\n",
    "\n",
    "# Load the test data from the csv file named \"test.csv\"\n",
    "test = pd.read_csv('testpg.csv')\n",
    "\n",
    "pg_access_token = getpass('Enter your Prediction Guard access token: ')\n",
    "os.environ['PREDICTIONGUARD_TOKEN'] = pg_access_token\n",
    "\n",
    "import predictionguard as pg\n",
    "\n",
    "# Create a Prediction Guard client object\n",
    "pg = pg.Client(\n",
    "    model=\"Nous-Hermes-Llama2-13B\",\n",
    "    output_type=\"json\",\n",
    "    output_structure={\n",
    "        \"answer\": \"string\",\n",
    "        \"question_id\": \"string\"\n",
    "    }\n",
    ")\n",
    "\n",
    "# Initialize an empty list to store the answers\n",
    "answers = []\n",
    "\n",
    "# Loop over all the rows in the test data\n",
    "for _, row in test.iterrows():\n",
    "    # Get the question and the transcript id from the row\n",
    "    question = row['Question']\n",
    "    transcript_id = row['Transcript']\n",
    "\n",
    "    # Get the transcript text from the transcripts dictionary\n",
    "    transcript = transcripts[transcript_id]\n",
    "\n",
    "    # Create an LLM \"prompt\" that we will use to extract certain\n",
    "    # information from the transcript.\n",
    "    prompt = f\"\"\"### Instruction:\n",
    "    Extract the patient's condition from the below input.\n",
    "\n",
    "    ### Input:\n",
    "    {transcript}\n",
    "\n",
    "    ### Response:\"\"\".format(transcript=transcript)\n",
    "\n",
    "    # Use the Prediction Guard instance to generate an answer based on the prompt\n",
    "    # Add a try-except block to catch and handle any errors or exceptions\n",
    "    try:\n",
    "        answer = pg.generate(prompt=prompt)\n",
    "    except Exception as e:\n",
    "        # Print the error message and the question id to the console\n",
    "        print(f\"Error: {e} for question id {row['Id']}\")\n",
    "        # Set the answer to None\n",
    "        answer = None\n",
    "\n",
    "    # Use the Prediction Guard instance to validate the answer and check if it matches the output structure\n",
    "    # Add a try-except block to catch and handle any errors or exceptions\n",
    "    try:\n",
    "        valid = pg.validate(answer)\n",
    "    except Exception as e:\n",
    "        # Print the error message and the question id to the console\n",
    "        print(f\"Error: {e} for question id {row['Id']}\")\n",
    "        # Set the valid flag to False\n",
    "        valid = False\n",
    "\n",
    "    # Append the answer and the question id to the answers list if the answer is valid\n",
    "    if answer is not None and valid:\n",
    "        answers.append([row['Id'], answer['answer']])\n",
    "    else:\n",
    "        answers.append([row['Id'], \"\"])\n"
   ]
  },
  {
   "cell_type": "code",
   "execution_count": null,
   "id": "33449552",
   "metadata": {},
   "outputs": [],
   "source": [
    "# Convert the answers list to a pandas dataframe\n",
    "answers = pd.DataFrame(answers, columns=[\"Id\", \"Text\"])\n",
    "answers.to_csv(\"pg_submission_11nov_up1.csv\", index=False)  # Removed index and index_label"
   ]
  }
 ],
 "metadata": {
  "kernelspec": {
   "display_name": "Python 3 (ipykernel)",
   "language": "python",
   "name": "python3"
  },
  "language_info": {
   "codemirror_mode": {
    "name": "ipython",
    "version": 3
   },
   "file_extension": ".py",
   "mimetype": "text/x-python",
   "name": "python",
   "nbconvert_exporter": "python",
   "pygments_lexer": "ipython3",
   "version": "3.11.4"
  }
 },
 "nbformat": 4,
 "nbformat_minor": 5
}
